{
 "cells": [
  {
   "cell_type": "markdown",
   "metadata": {},
   "source": [
    "# Настройки интерфейса - Функции - Кодирование признаков"
   ]
  },
  {
   "cell_type": "markdown",
   "metadata": {},
   "source": [
    "# Потребление алкоголя студентами"
   ]
  },
  {
   "cell_type": "markdown",
   "metadata": {},
   "source": [
    "### Шаг 1. Импортируем библиотеки."
   ]
  },
  {
   "cell_type": "code",
   "execution_count": 103,
   "metadata": {},
   "outputs": [],
   "source": [
    "import pandas as pd \n",
    "import numpy as np  "
   ]
  },
  {
   "cell_type": "markdown",
   "metadata": {},
   "source": [
    "### Шаг 2. Читаем датасет и записываем его в переменную df."
   ]
  },
  {
   "cell_type": "code",
   "execution_count": 104,
   "metadata": {},
   "outputs": [
    {
     "name": "stdout",
     "output_type": "stream",
     "text": [
      "  school sex  age address famsize Pstatus  Medu  Fedu     Mjob      Fjob  \\\n",
      "0     GP   F   18       U     GT3       A     4     4  at_home   teacher   \n",
      "1     GP   F   17       U     GT3       T     1     1  at_home     other   \n",
      "2     GP   F   15       U     LE3       T     1     1  at_home     other   \n",
      "3     GP   F   15       U     GT3       T     4     2   health  services   \n",
      "4     GP   F   16       U     GT3       T     3     3    other     other   \n",
      "\n",
      "   reason guardian  traveltime  studytime  failures schoolsup famsup paid  \\\n",
      "0  course   mother           2          2         0       yes     no   no   \n",
      "1  course   father           1          2         0        no    yes   no   \n",
      "2   other   mother           1          2         3       yes     no  yes   \n",
      "3    home   mother           1          3         0        no    yes  yes   \n",
      "4    home   father           1          2         0        no    yes  yes   \n",
      "\n",
      "  activities nursery higher internet romantic  famrel  freetime  goout  Dalc  \\\n",
      "0         no     yes    yes       no       no       4         3      4     1   \n",
      "1         no      no    yes      yes       no       5         3      3     1   \n",
      "2         no     yes    yes      yes       no       4         3      2     2   \n",
      "3        yes     yes    yes      yes      yes       3         2      2     1   \n",
      "4         no     yes    yes       no       no       4         3      2     1   \n",
      "\n",
      "   Walc  health  absences  G1  G2  G3  \n",
      "0     1       3         6   5   6   6  \n",
      "1     1       3         4   5   5   6  \n",
      "2     3       3        10   7   8  10  \n",
      "3     1       5         2  15  14  15  \n",
      "4     2       5         4   6  10  10  \n"
     ]
    }
   ],
   "source": [
    "# файл student-mat.pkl в папке datasets\n",
    "\n",
    "df = pd.read_pickle('/home/vlad/ds/pandas/datasets/student-mat.pkl')\n",
    "\n",
    "\n",
    "print(df.head())"
   ]
  },
  {
   "cell_type": "markdown",
   "metadata": {},
   "source": [
    "### Шаг 3. Смотрим первые 3 строки\n",
    "Кажется отображаются не все столбцы"
   ]
  },
  {
   "cell_type": "code",
   "execution_count": 105,
   "metadata": {},
   "outputs": [
    {
     "name": "stdout",
     "output_type": "stream",
     "text": [
      "  school sex  age address famsize Pstatus  Medu  Fedu     Mjob     Fjob  \\\n",
      "0     GP   F   18       U     GT3       A     4     4  at_home  teacher   \n",
      "1     GP   F   17       U     GT3       T     1     1  at_home    other   \n",
      "2     GP   F   15       U     LE3       T     1     1  at_home    other   \n",
      "\n",
      "   reason guardian  traveltime  studytime  failures schoolsup famsup paid  \\\n",
      "0  course   mother           2          2         0       yes     no   no   \n",
      "1  course   father           1          2         0        no    yes   no   \n",
      "2   other   mother           1          2         3       yes     no  yes   \n",
      "\n",
      "  activities nursery higher internet romantic  famrel  freetime  goout  Dalc  \\\n",
      "0         no     yes    yes       no       no       4         3      4     1   \n",
      "1         no      no    yes      yes       no       5         3      3     1   \n",
      "2         no     yes    yes      yes       no       4         3      2     2   \n",
      "\n",
      "   Walc  health  absences  G1  G2  G3  \n",
      "0     1       3         6   5   6   6  \n",
      "1     1       3         4   5   5   6  \n",
      "2     3       3        10   7   8  10  \n"
     ]
    }
   ],
   "source": [
    "pd.set_option('display.max_columns', None)\n",
    "print(df.head(3))\n"
   ]
  },
  {
   "cell_type": "markdown",
   "metadata": {},
   "source": [
    "### Шаг 4. Измени настройки интерфейса - добавь возможность вывода всех столбцов на экран\n",
    "https://pandas.pydata.org/pandas-docs/stable/reference/api/pandas.set_option.html#pandas.set_option"
   ]
  },
  {
   "cell_type": "code",
   "execution_count": 106,
   "metadata": {},
   "outputs": [
    {
     "name": "stdout",
     "output_type": "stream",
     "text": [
      "  school sex  age address famsize Pstatus  Medu  Fedu     Mjob      Fjob  \\\n",
      "0     GP   F   18       U     GT3       A     4     4  at_home   teacher   \n",
      "1     GP   F   17       U     GT3       T     1     1  at_home     other   \n",
      "2     GP   F   15       U     LE3       T     1     1  at_home     other   \n",
      "3     GP   F   15       U     GT3       T     4     2   health  services   \n",
      "4     GP   F   16       U     GT3       T     3     3    other     other   \n",
      "\n",
      "   reason guardian  traveltime  studytime  failures schoolsup famsup paid  \\\n",
      "0  course   mother           2          2         0       yes     no   no   \n",
      "1  course   father           1          2         0        no    yes   no   \n",
      "2   other   mother           1          2         3       yes     no  yes   \n",
      "3    home   mother           1          3         0        no    yes  yes   \n",
      "4    home   father           1          2         0        no    yes  yes   \n",
      "\n",
      "  activities nursery higher internet romantic  famrel  freetime  goout  Dalc  \\\n",
      "0         no     yes    yes       no       no       4         3      4     1   \n",
      "1         no      no    yes      yes       no       5         3      3     1   \n",
      "2         no     yes    yes      yes       no       4         3      2     2   \n",
      "3        yes     yes    yes      yes      yes       3         2      2     1   \n",
      "4         no     yes    yes       no       no       4         3      2     1   \n",
      "\n",
      "   Walc  health  absences  G1  G2  G3  \n",
      "0     1       3         6   5   6   6  \n",
      "1     1       3         4   5   5   6  \n",
      "2     3       3        10   7   8  10  \n",
      "3     1       5         2  15  14  15  \n",
      "4     2       5         4   6  10  10  \n"
     ]
    }
   ],
   "source": [
    "pd.set_option('display.max_columns', None)\n",
    "print(df.head())"
   ]
  },
  {
   "cell_type": "markdown",
   "metadata": {},
   "source": [
    "### Шаг 5. Для этого задания оставьте только колонки между 'school' и 'studytime' включительно."
   ]
  },
  {
   "cell_type": "code",
   "execution_count": 107,
   "metadata": {},
   "outputs": [
    {
     "name": "stdout",
     "output_type": "stream",
     "text": [
      "  school sex  age address famsize Pstatus  Medu  Fedu     Mjob      Fjob  \\\n",
      "0     GP   F   18       U     GT3       A     4     4  at_home   teacher   \n",
      "1     GP   F   17       U     GT3       T     1     1  at_home     other   \n",
      "2     GP   F   15       U     LE3       T     1     1  at_home     other   \n",
      "3     GP   F   15       U     GT3       T     4     2   health  services   \n",
      "4     GP   F   16       U     GT3       T     3     3    other     other   \n",
      "\n",
      "   reason guardian  traveltime  studytime  failures schoolsup famsup paid  \\\n",
      "0  course   mother           2          2         0       yes     no   no   \n",
      "1  course   father           1          2         0        no    yes   no   \n",
      "2   other   mother           1          2         3       yes     no  yes   \n",
      "3    home   mother           1          3         0        no    yes  yes   \n",
      "4    home   father           1          2         0        no    yes  yes   \n",
      "\n",
      "  activities nursery higher internet romantic  famrel  freetime  goout  Dalc  \\\n",
      "0         no     yes    yes       no       no       4         3      4     1   \n",
      "1         no      no    yes      yes       no       5         3      3     1   \n",
      "2         no     yes    yes      yes       no       4         3      2     2   \n",
      "3        yes     yes    yes      yes      yes       3         2      2     1   \n",
      "4         no     yes    yes       no       no       4         3      2     1   \n",
      "\n",
      "   Walc  health  absences  G1  G2  G3  \n",
      "0     1       3         6   5   6   6  \n",
      "1     1       3         4   5   5   6  \n",
      "2     3       3        10   7   8  10  \n",
      "3     1       5         2  15  14  15  \n",
      "4     2       5         4   6  10  10  \n"
     ]
    }
   ],
   "source": [
    "filtered_df = df.loc[:, 'school':'studytime']\n",
    "print(df.head())"
   ]
  },
  {
   "cell_type": "markdown",
   "metadata": {},
   "source": [
    "### Шаг 6. Напишите лямбду, которая применяет capitalize к строкам."
   ]
  },
  {
   "cell_type": "code",
   "execution_count": 108,
   "metadata": {},
   "outputs": [
    {
     "name": "stdout",
     "output_type": "stream",
     "text": [
      "  school sex  age address famsize Pstatus  Medu  Fedu     Mjob     Fjob  \\\n",
      "0     Gp   F   18       U     Gt3       A     4     4  At_home  Teacher   \n",
      "1     Gp   F   17       U     Gt3       T     1     1  At_home    Other   \n",
      "2     Gp   F   15       U     Le3       T     1     1  At_home    Other   \n",
      "\n",
      "   reason guardian  traveltime  studytime  failures schoolsup famsup paid  \\\n",
      "0  Course   Mother           2          2         0       Yes     No   No   \n",
      "1  Course   Father           1          2         0        No    Yes   No   \n",
      "2   Other   Mother           1          2         3       Yes     No  Yes   \n",
      "\n",
      "  activities nursery higher internet romantic  famrel  freetime  goout  Dalc  \\\n",
      "0         No     Yes    Yes       No       No       4         3      4     1   \n",
      "1         No      No    Yes      Yes       No       5         3      3     1   \n",
      "2         No     Yes    Yes      Yes       No       4         3      2     2   \n",
      "\n",
      "   Walc  health  absences  G1  G2  G3  \n",
      "0     1       3         6   5   6   6  \n",
      "1     1       3         4   5   5   6  \n",
      "2     3       3        10   7   8  10  \n"
     ]
    }
   ],
   "source": [
    "string_columns = df.select_dtypes(include=['object']).columns\n",
    "df[string_columns] = df[string_columns].apply(lambda x: x.str.capitalize())\n",
    "print(df.head(3))"
   ]
  },
  {
   "cell_type": "markdown",
   "metadata": {},
   "source": [
    "### Шаг 7. Примените эту лямбду к Mjob и Fjob"
   ]
  },
  {
   "cell_type": "code",
   "execution_count": 109,
   "metadata": {},
   "outputs": [
    {
     "name": "stdout",
     "output_type": "stream",
     "text": [
      "  school sex  age address famsize Pstatus  Medu  Fedu     Mjob     Fjob  \\\n",
      "0     Gp   F   18       U     Gt3       A     4     4  AT_HOME  TEACHER   \n",
      "1     Gp   F   17       U     Gt3       T     1     1  AT_HOME    OTHER   \n",
      "2     Gp   F   15       U     Le3       T     1     1  AT_HOME    OTHER   \n",
      "\n",
      "   reason guardian  traveltime  studytime  failures schoolsup famsup paid  \\\n",
      "0  Course   Mother           2          2         0       Yes     No   No   \n",
      "1  Course   Father           1          2         0        No    Yes   No   \n",
      "2   Other   Mother           1          2         3       Yes     No  Yes   \n",
      "\n",
      "  activities nursery higher internet romantic  famrel  freetime  goout  Dalc  \\\n",
      "0         No     Yes    Yes       No       No       4         3      4     1   \n",
      "1         No      No    Yes      Yes       No       5         3      3     1   \n",
      "2         No     Yes    Yes      Yes       No       4         3      2     2   \n",
      "\n",
      "   Walc  health  absences  G1  G2  G3  \n",
      "0     1       3         6   5   6   6  \n",
      "1     1       3         4   5   5   6  \n",
      "2     3       3        10   7   8  10  \n"
     ]
    }
   ],
   "source": [
    "df['Mjob'] = df['Mjob'].apply(lambda x: x.upper())\n",
    "df['Fjob'] = df['Fjob'].apply(lambda x: x.upper())\n",
    "print(df.head(3))"
   ]
  },
  {
   "cell_type": "markdown",
   "metadata": {},
   "source": [
    "### Шаг 8. Напишите функцию, которая находит общее время потраченное студентом\n",
    "##### если это школа GP, то не учитывай время поездки"
   ]
  },
  {
   "cell_type": "code",
   "execution_count": 110,
   "metadata": {},
   "outputs": [],
   "source": [
    "def calculate_all_time(row):\n",
    "    \n",
    "    if row['school'] == 'GP':\n",
    "        return row['studytime'] + row['freetime']\n",
    "    else:\n",
    "        return row['studytime'] + row['freetime'] + row['traveltime']\n"
   ]
  },
  {
   "cell_type": "markdown",
   "metadata": {},
   "source": [
    "### Шаг 9. Создайте новый столбец all_time используя функцию из прошлого шага\n",
    "Используй метод apply"
   ]
  },
  {
   "cell_type": "code",
   "execution_count": 111,
   "metadata": {},
   "outputs": [
    {
     "name": "stdout",
     "output_type": "stream",
     "text": [
      "    school  studytime  freetime  traveltime  all_time\n",
      "0       Gp          2         3           2         7\n",
      "1       Gp          2         3           1         6\n",
      "2       Gp          2         3           1         6\n",
      "3       Gp          3         2           1         6\n",
      "4       Gp          2         3           1         6\n",
      "5       Gp          2         4           1         7\n",
      "6       Gp          2         4           1         7\n",
      "7       Gp          2         1           2         5\n",
      "8       Gp          2         2           1         5\n",
      "9       Gp          2         5           1         8\n",
      "10      Gp          2         3           1         6\n",
      "11      Gp          3         2           3         8\n",
      "12      Gp          1         3           1         5\n",
      "13      Gp          2         4           2         8\n",
      "14      Gp          3         5           1         9\n",
      "15      Gp          1         4           1         6\n",
      "16      Gp          3         2           1         6\n",
      "17      Gp          2         3           3         8\n",
      "18      Gp          1         5           1         7\n",
      "19      Gp          1         1           1         3\n",
      "20      Gp          2         4           1         7\n",
      "21      Gp          1         4           1         6\n",
      "22      Gp          2         5           1         8\n",
      "23      Gp          2         4           2         8\n",
      "24      Gp          3         3           1         7\n",
      "25      Gp          1         2           1         4\n",
      "26      Gp          1         2           1         4\n",
      "27      Gp          1         2           1         4\n",
      "28      Gp          2         3           1         6\n",
      "29      Gp          2         4           1         7\n",
      "30      Gp          2         4           1         7\n",
      "31      Gp          2         3           2         7\n",
      "32      Gp          2         5           1         8\n",
      "33      Gp          2         3           1         6\n",
      "34      Gp          1         4           1         6\n",
      "35      Gp          1         5           2         8\n",
      "36      Gp          3         4           1         8\n",
      "37      Gp          3         4           2         9\n",
      "38      Gp          3         3           1         7\n",
      "39      Gp          1         3           1         5\n",
      "40      Gp          2         3           2         7\n",
      "41      Gp          1         4           1         6\n",
      "42      Gp          2         3           1         6\n",
      "43      Gp          1         4           1         6\n",
      "44      Gp          2         3           2         7\n",
      "45      Gp          2         2           1         5\n",
      "46      Gp          2         3           1         6\n",
      "47      Gp          4         2           1         7\n",
      "48      Gp          2         3           1         6\n",
      "49      Gp          2         4           1         7\n",
      "50      Gp          2         3           3         8\n",
      "51      Gp          2         3           1         6\n",
      "52      Gp          1         5           2         8\n",
      "53      Gp          1         3           1         5\n",
      "54      Gp          1         3           1         5\n",
      "55      Gp          2         3           1         6\n",
      "56      Gp          2         3           1         6\n",
      "57      Gp          2         2           1         5\n",
      "58      Gp          2         3           1         6\n",
      "59      Gp          2         2           1         5\n",
      "60      Gp          2         4           1         7\n",
      "61      Gp          1         5           4        10\n",
      "62      Gp          2         4           1         7\n",
      "63      Gp          3         4           1         8\n",
      "64      Gp          2         4           1         7\n",
      "65      Gp          2         4           3         9\n",
      "66      Gp          4         3           1         8\n",
      "67      Gp          4         3           1         8\n",
      "68      Gp          2         1           2         5\n",
      "69      Gp          4         4           2        10\n",
      "70      Gp          4         3           2         9\n",
      "71      Gp          4         3           1         8\n",
      "72      Gp          2         3           1         6\n",
      "73      Gp          1         3           1         5\n",
      "74      Gp          2         3           1         6\n",
      "75      Gp          2         3           1         6\n",
      "76      Gp          4         4           2        10\n",
      "77      Gp          4         2           1         7\n",
      "78      Gp          1         5           2         8\n",
      "79      Gp          2         4           1         7\n",
      "80      Gp          1         2           1         4\n",
      "81      Gp          3         3           1         7\n",
      "82      Gp          2         4           1         7\n",
      "83      Gp          2         3           2         7\n",
      "84      Gp          2         3           1         6\n",
      "85      Gp          2         4           2         8\n",
      "86      Gp          2         3           1         6\n",
      "87      Gp          3         3           1         7\n",
      "88      Gp          2         4           2         8\n",
      "89      Gp          2         1           1         4\n",
      "90      Gp          3         3           1         7\n",
      "91      Gp          1         5           1         7\n",
      "92      Gp          2         3           1         6\n",
      "93      Gp          2         3           2         7\n",
      "94      Gp          4         3           1         8\n",
      "95      Gp          4         1           2         7\n",
      "96      Gp          1         3           2         6\n",
      "97      Gp          2         3           1         6\n",
      "98      Gp          1         3           1         5\n",
      "99      Gp          3         3           1         7\n",
      "100     Gp          1         5           1         7\n",
      "101     Gp          3         4           1         8\n",
      "102     Gp          1         3           1         5\n",
      "103     Gp          2         3           2         7\n",
      "104     Gp          2         4           1         7\n",
      "105     Gp          4         3           1         8\n",
      "106     Gp          4         1           1         6\n",
      "107     Gp          3         3           1         7\n",
      "108     Gp          4         3           4        11\n",
      "109     Gp          3         4           1         8\n",
      "110     Gp          1         5           1         7\n",
      "111     Gp          3         1           1         5\n",
      "112     Gp          2         1           1         4\n",
      "113     Gp          1         5           1         7\n",
      "114     Gp          2         4           1         7\n",
      "115     Gp          2         4           1         7\n",
      "116     Gp          2         4           2         8\n",
      "117     Gp          1         4           2         7\n",
      "118     Gp          2         2           3         7\n",
      "119     Gp          1         4           1         6\n",
      "120     Gp          2         2           1         5\n",
      "121     Gp          4         5           1        10\n",
      "122     Gp          2         2           2         6\n",
      "123     Gp          1         4           1         6\n",
      "124     Gp          2         4           1         7\n",
      "125     Gp          1         5           1         7\n",
      "126     Gp          2         3           1         6\n",
      "127     Gp          2         4           1         7\n",
      "128     Gp          1         3           1         5\n",
      "129     Gp          1         5           1         7\n",
      "130     Gp          3         2           2         7\n",
      "131     Gp          1         3           3         7\n",
      "132     Gp          1         4           1         6\n",
      "133     Gp          1         2           1         4\n",
      "134     Gp          2         3           4         9\n",
      "135     Gp          3         3           1         7\n",
      "136     Gp          2         4           3         9\n",
      "137     Gp          1         3           2         6\n",
      "138     Gp          2         4           1         7\n",
      "139     Gp          1         3           2         6\n",
      "140     Gp          4         2           2         8\n",
      "141     Gp          1         3           2         6\n",
      "142     Gp          3         2           1         6\n",
      "143     Gp          1         4           1         6\n",
      "144     Gp          1         4           1         6\n",
      "145     Gp          2         4           1         7\n",
      "146     Gp          2         3           1         6\n",
      "147     Gp          2         3           1         6\n",
      "148     Gp          1         3           1         5\n",
      "149     Gp          1         5           4        10\n",
      "150     Gp          1         3           1         5\n",
      "151     Gp          1         4           1         6\n",
      "152     Gp          3         2           2         7\n",
      "153     Gp          1         5           1         7\n",
      "154     Gp          1         2           1         4\n",
      "155     Gp          2         4           1         7\n",
      "156     Gp          1         2           1         4\n",
      "157     Gp          1         2           3         6\n",
      "158     Gp          1         2           3         6\n",
      "159     Gp          2         5           1         8\n",
      "160     Gp          1         3           2         6\n",
      "161     Gp          2         4           2         8\n",
      "162     Gp          1         4           2         7\n",
      "163     Gp          1         3           1         5\n",
      "164     Gp          2         3           4         9\n",
      "165     Gp          1         5           2         8\n",
      "166     Gp          2         3           1         6\n",
      "167     Gp          2         2           1         5\n",
      "168     Gp          2         1           1         4\n",
      "169     Gp          2         4           1         7\n",
      "170     Gp          1         4           3         8\n",
      "171     Gp          2         3           2         7\n",
      "172     Gp          2         4           1         7\n",
      "173     Gp          2         3           1         6\n",
      "174     Gp          2         4           2         8\n",
      "175     Gp          2         4           2         8\n",
      "176     Gp          2         4           2         8\n",
      "177     Gp          2         3           1         6\n",
      "178     Gp          1         3           1         5\n",
      "179     Gp          2         2           1         5\n",
      "180     Gp          2         4           1         7\n",
      "181     Gp          2         2           1         5\n",
      "182     Gp          2         4           1         7\n",
      "183     Gp          2         3           1         6\n",
      "184     Gp          2         2           1         5\n",
      "185     Gp          2         3           1         6\n",
      "186     Gp          1         3           1         5\n",
      "187     Gp          2         2           1         5\n",
      "188     Gp          2         3           1         6\n",
      "189     Gp          2         1           1         4\n",
      "190     Gp          2         3           1         6\n",
      "191     Gp          2         3           1         6\n",
      "192     Gp          2         4           2         8\n",
      "193     Gp          1         3           1         5\n",
      "194     Gp          1         3           2         6\n",
      "195     Gp          2         3           1         6\n",
      "196     Gp          1         2           1         4\n",
      "197     Gp          1         3           3         7\n",
      "198     Gp          1         2           2         5\n",
      "199     Gp          2         5           1         8\n",
      "200     Gp          2         3           1         6\n",
      "201     Gp          2         4           1         7\n",
      "202     Gp          2         4           1         7\n",
      "203     Gp          1         3           1         5\n",
      "204     Gp          4         3           2         9\n",
      "205     Gp          3         4           1         8\n",
      "206     Gp          2         3           1         6\n",
      "207     Gp          2         3           1         6\n",
      "208     Gp          1         3           2         6\n",
      "209     Gp          3         4           2         9\n",
      "210     Gp          4         3           1         8\n",
      "211     Gp          2         3           1         6\n",
      "212     Gp          2         3           1         6\n",
      "213     Gp          2         4           1         7\n",
      "214     Gp          1         2           1         4\n",
      "215     Gp          2         4           2         8\n",
      "216     Gp          2         4           1         7\n",
      "217     Gp          2         2           1         5\n",
      "218     Gp          1         3           2         6\n",
      "219     Gp          3         3           1         7\n",
      "220     Gp          2         2           2         6\n",
      "221     Gp          3         3           1         7\n",
      "222     Gp          2         3           1         6\n",
      "223     Gp          2         3           2         7\n",
      "224     Gp          3         3           1         7\n",
      "225     Gp          2         3           1         6\n",
      "226     Gp          2         3           1         6\n",
      "227     Gp          2         3           1         6\n",
      "228     Gp          2         3           4         9\n",
      "229     Gp          3         2           2         7\n",
      "230     Gp          2         2           1         5\n",
      "231     Gp          2         5           2         9\n",
      "232     Gp          2         5           1         8\n",
      "233     Gp          2         2           1         5\n",
      "234     Gp          2         4           2         8\n",
      "235     Gp          3         3           2         8\n",
      "236     Gp          2         4           1         7\n",
      "237     Gp          1         5           1         7\n",
      "238     Gp          2         1           3         6\n",
      "239     Gp          2         5           1         8\n",
      "240     Gp          2         5           2         9\n",
      "241     Gp          2         3           2         7\n",
      "242     Gp          1         4           1         6\n",
      "243     Gp          1         3           1         5\n",
      "244     Gp          3         4           2         9\n",
      "245     Gp          1         3           3         7\n",
      "246     Gp          1         2           2         5\n",
      "247     Gp          1         4           1         6\n",
      "248     Gp          2         3           1         6\n",
      "249     Gp          1         3           1         5\n",
      "250     Gp          1         4           2         7\n",
      "251     Gp          2         3           3         8\n",
      "252     Gp          1         2           1         4\n",
      "253     Gp          1         3           2         6\n",
      "254     Gp          1         4           1         6\n",
      "255     Gp          1         4           2         7\n",
      "256     Gp          4         2           1         7\n",
      "257     Gp          2         3           1         6\n",
      "258     Gp          2         2           1         5\n",
      "259     Gp          4         4           1         9\n",
      "260     Gp          2         1           1         4\n",
      "261     Gp          2         3           1         6\n",
      "262     Gp          3         3           1         7\n",
      "263     Gp          3         2           1         6\n",
      "264     Gp          3         3           1         7\n",
      "265     Gp          2         2           2         6\n",
      "266     Gp          2         4           1         7\n",
      "267     Gp          2         3           2         7\n",
      "268     Gp          2         4           1         7\n",
      "269     Gp          2         3           2         7\n",
      "270     Gp          2         3           1         6\n",
      "271     Gp          4         5           1        10\n",
      "272     Gp          2         4           2         8\n",
      "273     Gp          2         5           1         8\n",
      "274     Gp          2         3           2         7\n",
      "275     Gp          2         4           2         8\n",
      "276     Gp          2         1           2         5\n",
      "277     Gp          1         2           2         5\n",
      "278     Gp          2         4           1         7\n",
      "279     Gp          1         2           2         5\n",
      "280     Gp          1         5           2         8\n",
      "281     Gp          1         4           1         6\n",
      "282     Gp          4         2           2         8\n",
      "283     Gp          2         4           2         8\n",
      "284     Gp          2         4           1         7\n",
      "285     Gp          2         3           1         6\n",
      "286     Gp          3         3           1         7\n",
      "287     Gp          3         3           1         7\n",
      "288     Gp          3         2           1         6\n",
      "289     Gp          2         4           1         7\n",
      "290     Gp          2         3           1         6\n",
      "291     Gp          3         2           1         6\n",
      "292     Gp          2         4           1         7\n",
      "293     Gp          4         1           2         7\n",
      "294     Gp          3         4           2         9\n",
      "295     Gp          1         4           1         6\n",
      "296     Gp          2         3           2         7\n",
      "297     Gp          2         4           2         8\n",
      "298     Gp          4         3           1         8\n",
      "299     Gp          1         4           1         6\n",
      "300     Gp          2         2           1         5\n",
      "301     Gp          1         1           2         4\n",
      "302     Gp          3         3           2         8\n",
      "303     Gp          4         2           1         7\n",
      "304     Gp          2         4           1         7\n",
      "305     Gp          2         4           1         7\n",
      "306     Gp          1         5           1         7\n",
      "307     Gp          1         3           2         6\n",
      "308     Gp          2         5           1         8\n",
      "309     Gp          2         4           1         7\n",
      "310     Gp          2         2           1         5\n",
      "311     Gp          2         4           3         9\n",
      "312     Gp          2         5           1         8\n",
      "313     Gp          2         2           2         6\n",
      "314     Gp          3         1           1         5\n",
      "315     Gp          3         1           1         5\n",
      "316     Gp          2         3           2         7\n",
      "317     Gp          3         3           1         7\n",
      "318     Gp          3         3           1         7\n",
      "319     Gp          2         4           1         7\n",
      "320     Gp          2         2           1         5\n",
      "321     Gp          2         2           1         5\n",
      "322     Gp          3         3           1         7\n",
      "323     Gp          3         4           1         8\n",
      "324     Gp          3         3           2         8\n",
      "325     Gp          3         3           1         7\n",
      "326     Gp          1         3           1         5\n",
      "327     Gp          1         4           4         9\n",
      "328     Gp          3         4           1         8\n",
      "329     Gp          3         3           2         8\n",
      "330     Gp          4         5           1        10\n",
      "331     Gp          3         4           1         8\n",
      "332     Gp          2         3           1         6\n",
      "333     Gp          2         3           1         6\n",
      "334     Gp          4         4           2        10\n",
      "335     Gp          3         4           1         8\n",
      "336     Gp          3         4           1         8\n",
      "337     Gp          2         3           1         6\n",
      "338     Gp          4         3           1         8\n",
      "339     Gp          2         3           1         6\n",
      "340     Gp          3         3           1         7\n",
      "341     Gp          2         3           1         6\n",
      "342     Gp          2         3           1         6\n",
      "343     Gp          2         3           1         6\n",
      "344     Gp          3         3           1         7\n",
      "345     Gp          3         4           1         8\n",
      "346     Gp          3         3           1         7\n",
      "347     Gp          3         4           1         8\n",
      "348     Gp          3         4           1         8\n",
      "349     Ms          1         5           2         8\n",
      "350     Ms          2         4           3         9\n",
      "351     Ms          2         5           2         9\n",
      "352     Ms          1         3           1         5\n",
      "353     Ms          1         4           3         8\n",
      "354     Ms          2         5           2         9\n",
      "355     Ms          2         3           1         6\n",
      "356     Ms          2         3           2         7\n",
      "357     Ms          2         2           2         6\n",
      "358     Ms          1         3           2         6\n",
      "359     Ms          3         3           2         8\n",
      "360     Ms          2         3           3         8\n",
      "361     Ms          2         4           2         8\n",
      "362     Ms          2         3           2         7\n",
      "363     Ms          2         3           1         6\n",
      "364     Ms          2         2           2         6\n",
      "365     Ms          2         3           2         7\n",
      "366     Ms          3         2           2         7\n",
      "367     Ms          1         2           3         6\n",
      "368     Ms          1         2           2         5\n",
      "369     Ms          2         2           3         7\n",
      "370     Ms          2         2           2         6\n",
      "371     Ms          1         3           3         7\n",
      "372     Ms          3         4           1         8\n",
      "373     Ms          1         5           1         7\n",
      "374     Ms          3         4           2         9\n",
      "375     Ms          3         3           4        10\n",
      "376     Ms          3         4           2         9\n",
      "377     Ms          2         4           1         7\n",
      "378     Ms          2         1           1         4\n",
      "379     Ms          2         5           1         8\n",
      "380     Ms          2         2           1         5\n",
      "381     Ms          1         4           2         7\n",
      "382     Ms          2         4           2         8\n",
      "383     Ms          1         3           2         6\n",
      "384     Ms          1         4           2         7\n",
      "385     Ms          3         3           2         8\n",
      "386     Ms          1         4           3         8\n",
      "387     Ms          3         4           1         8\n",
      "388     Ms          2         3           1         6\n",
      "389     Ms          2         1           2         5\n",
      "390     Ms          2         5           1         8\n",
      "391     Ms          1         4           2         7\n",
      "392     Ms          1         5           1         7\n",
      "393     Ms          1         4           3         8\n",
      "394     Ms          1         2           1         4\n"
     ]
    }
   ],
   "source": [
    "df['all_time'] = df.apply(calculate_all_time, axis=1)\n",
    "\n",
    "print(df[['school', 'studytime', 'freetime', 'traveltime', 'all_time']])"
   ]
  },
  {
   "cell_type": "markdown",
   "metadata": {},
   "source": [
    "### Шаг 10. Выведите последние элементы датафрейма."
   ]
  },
  {
   "cell_type": "code",
   "execution_count": 86,
   "metadata": {},
   "outputs": [
    {
     "name": "stdout",
     "output_type": "stream",
     "text": [
      "    school sex  age address famsize Pstatus  Medu  Fedu      Mjob      Fjob  \\\n",
      "390     Ms   M   20       U     Le3       A     2     2  SERVICES  SERVICES   \n",
      "391     Ms   M   17       U     Le3       T     3     1  SERVICES  SERVICES   \n",
      "392     Ms   M   21       R     Gt3       T     1     1     OTHER     OTHER   \n",
      "393     Ms   M   18       R     Le3       T     3     2  SERVICES     OTHER   \n",
      "394     Ms   M   19       U     Le3       T     1     1     OTHER   AT_HOME   \n",
      "\n",
      "     reason guardian  traveltime  studytime  failures schoolsup famsup paid  \\\n",
      "390  Course    Other           1          2         2        No    Yes  Yes   \n",
      "391  Course   Mother           2          1         0        No     No   No   \n",
      "392  Course    Other           1          1         3        No     No   No   \n",
      "393  Course   Mother           3          1         0        No     No   No   \n",
      "394  Course   Father           1          1         0        No     No   No   \n",
      "\n",
      "    activities nursery higher internet romantic  famrel  freetime  goout  \\\n",
      "390         No     Yes    Yes       No       No       5         5      4   \n",
      "391         No      No    Yes      Yes       No       2         4      5   \n",
      "392         No      No    Yes       No       No       5         5      3   \n",
      "393         No      No    Yes      Yes       No       4         4      1   \n",
      "394         No     Yes    Yes      Yes       No       3         2      3   \n",
      "\n",
      "     Dalc  Walc  health  absences  G1  G2  G3  \n",
      "390     4     5       4        11   9   9   9  \n",
      "391     3     4       2         3  14  16  16  \n",
      "392     3     3       3         3  10   8   7  \n",
      "393     3     4       5         0  11  12  10  \n",
      "394     3     3       5         5   8   9   9  \n"
     ]
    }
   ],
   "source": [
    "print(df.tail())"
   ]
  },
  {
   "cell_type": "markdown",
   "metadata": {},
   "source": [
    "### Шаг 11. Заметили, что в изначальном датафрейме все равно маленькие буквы? Почему? Исправьте колонки Mjob и Fjob."
   ]
  },
  {
   "cell_type": "code",
   "execution_count": 87,
   "metadata": {},
   "outputs": [
    {
     "name": "stdout",
     "output_type": "stream",
     "text": [
      "  school sex  age address famsize Pstatus  Medu  Fedu     Mjob     Fjob  \\\n",
      "0     Gp   F   18       U     Gt3       A     4     4  at_home  teacher   \n",
      "1     Gp   F   17       U     Gt3       T     1     1  at_home    other   \n",
      "2     Gp   F   15       U     Le3       T     1     1  at_home    other   \n",
      "\n",
      "   reason guardian  traveltime  studytime  failures schoolsup famsup paid  \\\n",
      "0  Course   Mother           2          2         0       Yes     No   No   \n",
      "1  Course   Father           1          2         0        No    Yes   No   \n",
      "2   Other   Mother           1          2         3       Yes     No  Yes   \n",
      "\n",
      "  activities nursery higher internet romantic  famrel  freetime  goout  Dalc  \\\n",
      "0         No     Yes    Yes       No       No       4         3      4     1   \n",
      "1         No      No    Yes      Yes       No       5         3      3     1   \n",
      "2         No     Yes    Yes      Yes       No       4         3      2     2   \n",
      "\n",
      "   Walc  health  absences  G1  G2  G3  \n",
      "0     1       3         6   5   6   6  \n",
      "1     1       3         4   5   5   6  \n",
      "2     3       3        10   7   8  10  \n"
     ]
    }
   ],
   "source": [
    "df['Mjob'] = df['Mjob'].str.lower()\n",
    "df['Fjob'] = df['Fjob'].str.lower()\n",
    "print(df.head(3))"
   ]
  },
  {
   "cell_type": "markdown",
   "metadata": {},
   "source": [
    "### Шаг 12 Создайте колонку legal_drinker булевого типа, которая показывает, что человеку 18 лет или больше.\n",
    "Используй метод apply"
   ]
  },
  {
   "cell_type": "code",
   "execution_count": 88,
   "metadata": {},
   "outputs": [
    {
     "name": "stdout",
     "output_type": "stream",
     "text": [
      "  school sex  age address famsize Pstatus  Medu  Fedu     Mjob     Fjob  \\\n",
      "0     Gp   F   18       U     Gt3       A     4     4  at_home  teacher   \n",
      "1     Gp   F   17       U     Gt3       T     1     1  at_home    other   \n",
      "2     Gp   F   15       U     Le3       T     1     1  at_home    other   \n",
      "\n",
      "   reason guardian  traveltime  studytime  failures schoolsup famsup paid  \\\n",
      "0  Course   Mother           2          2         0       Yes     No   No   \n",
      "1  Course   Father           1          2         0        No    Yes   No   \n",
      "2   Other   Mother           1          2         3       Yes     No  Yes   \n",
      "\n",
      "  activities nursery higher internet romantic  famrel  freetime  goout  Dalc  \\\n",
      "0         No     Yes    Yes       No       No       4         3      4     1   \n",
      "1         No      No    Yes      Yes       No       5         3      3     1   \n",
      "2         No     Yes    Yes      Yes       No       4         3      2     2   \n",
      "\n",
      "   Walc  health  absences  G1  G2  G3  legal_drinker  \n",
      "0     1       3         6   5   6   6           True  \n",
      "1     1       3         4   5   5   6          False  \n",
      "2     3       3        10   7   8  10          False  \n"
     ]
    }
   ],
   "source": [
    "df['legal_drinker'] = df['age'].apply(lambda x: x >= 18)\n",
    "print(df.head(3))"
   ]
  },
  {
   "cell_type": "markdown",
   "metadata": {},
   "source": [
    "### Шаг 13. Умножьте каждое число в датасете на 10.\n",
    "##### тайного смысла в этом нет, это просто упражнение ^_^"
   ]
  },
  {
   "cell_type": "code",
   "execution_count": 89,
   "metadata": {},
   "outputs": [
    {
     "name": "stdout",
     "output_type": "stream",
     "text": [
      "  school sex  age address famsize Pstatus  Medu  Fedu     Mjob     Fjob  \\\n",
      "0     Gp   F  180       U     Gt3       A    40    40  at_home  teacher   \n",
      "1     Gp   F  170       U     Gt3       T    10    10  at_home    other   \n",
      "2     Gp   F  150       U     Le3       T    10    10  at_home    other   \n",
      "\n",
      "   reason guardian  traveltime  studytime  failures schoolsup famsup paid  \\\n",
      "0  Course   Mother          20         20         0       Yes     No   No   \n",
      "1  Course   Father          10         20         0        No    Yes   No   \n",
      "2   Other   Mother          10         20        30       Yes     No  Yes   \n",
      "\n",
      "  activities nursery higher internet romantic  famrel  freetime  goout  Dalc  \\\n",
      "0         No     Yes    Yes       No       No      40        30     40    10   \n",
      "1         No      No    Yes      Yes       No      50        30     30    10   \n",
      "2         No     Yes    Yes      Yes       No      40        30     20    20   \n",
      "\n",
      "   Walc  health  absences  G1  G2   G3  legal_drinker  \n",
      "0    10      30        60  50  60   60           True  \n",
      "1    10      30        40  50  50   60          False  \n",
      "2    30      30       100  70  80  100          False  \n"
     ]
    }
   ],
   "source": [
    "df.loc[:, df.select_dtypes(include=['int64', 'float64']).columns] *= 10\n",
    "\n",
    "print(df.head(3))"
   ]
  },
  {
   "cell_type": "markdown",
   "metadata": {},
   "source": [
    "### Шаг 14. Сбрось все настройки интерфейса (4 шаг)"
   ]
  },
  {
   "cell_type": "code",
   "execution_count": 73,
   "metadata": {},
   "outputs": [],
   "source": [
    "%reset -f\n"
   ]
  },
  {
   "cell_type": "markdown",
   "metadata": {},
   "source": [
    "### Шаг 15*. Закодируйте все категориальные признаки\n",
    "В рамках концепции машинного обучения, отдельным этапом предобработки данных служит кодирование категориальных признаков, т.к при обучении моделей мы не можем использовать текст(все признаки отличные от типов float и int).  \n",
    "Любой текст мы должны преобразовывать в числа\n",
    "\n",
    "https://alexanderdyakonov.wordpress.com/2016/08/03/python-категориальные-признаки/"
   ]
  },
  {
   "cell_type": "code",
   "execution_count": 90,
   "metadata": {},
   "outputs": [
    {
     "name": "stdout",
     "output_type": "stream",
     "text": [
      "   age  Medu  Fedu  traveltime  studytime  failures  famrel  freetime  goout  \\\n",
      "0  180    40    40          20         20         0      40        30     40   \n",
      "1  170    10    10          10         20         0      50        30     30   \n",
      "2  150    10    10          10         20        30      40        30     20   \n",
      "\n",
      "   Dalc  Walc  health  absences  G1  G2   G3  legal_drinker  school_Ms  sex_M  \\\n",
      "0    10    10      30        60  50  60   60           True      False  False   \n",
      "1    10    10      30        40  50  50   60          False      False  False   \n",
      "2    20    30      30       100  70  80  100          False      False  False   \n",
      "\n",
      "   address_U  famsize_Le3  Pstatus_T  Mjob_health  Mjob_other  Mjob_services  \\\n",
      "0       True        False      False        False       False          False   \n",
      "1       True        False       True        False       False          False   \n",
      "2       True         True       True        False       False          False   \n",
      "\n",
      "   Mjob_teacher  Fjob_health  Fjob_other  Fjob_services  Fjob_teacher  \\\n",
      "0         False        False       False          False          True   \n",
      "1         False        False        True          False         False   \n",
      "2         False        False        True          False         False   \n",
      "\n",
      "   reason_Home  reason_Other  reason_Reputation  guardian_Mother  \\\n",
      "0        False         False              False             True   \n",
      "1        False         False              False            False   \n",
      "2        False          True              False             True   \n",
      "\n",
      "   guardian_Other  schoolsup_Yes  famsup_Yes  paid_Yes  activities_Yes  \\\n",
      "0           False           True       False     False           False   \n",
      "1           False          False        True     False           False   \n",
      "2           False           True       False      True           False   \n",
      "\n",
      "   nursery_Yes  higher_Yes  internet_Yes  romantic_Yes  \n",
      "0         True        True         False         False  \n",
      "1        False        True          True         False  \n",
      "2         True        True          True         False  \n"
     ]
    }
   ],
   "source": [
    "df = pd.get_dummies(df, columns=['school', 'sex', 'address', 'famsize', 'Pstatus', 'Mjob', 'Fjob', 'reason', 'guardian', 'schoolsup', 'famsup', 'paid', 'activities', 'nursery', 'higher', 'internet', 'romantic'], drop_first=True)\n",
    "print(df.head(3))"
   ]
  },
  {
   "cell_type": "code",
   "execution_count": null,
   "metadata": {},
   "outputs": [],
   "source": []
  }
 ],
 "metadata": {
  "anaconda-cloud": {},
  "kernelspec": {
   "display_name": "Python 3 (ipykernel)",
   "language": "python",
   "name": "python3"
  },
  "language_info": {
   "codemirror_mode": {
    "name": "ipython",
    "version": 3
   },
   "file_extension": ".py",
   "mimetype": "text/x-python",
   "name": "python",
   "nbconvert_exporter": "python",
   "pygments_lexer": "ipython3",
   "version": "3.12.7"
  },
  "vscode": {
   "interpreter": {
    "hash": "8c4d66b392a277a774887e7eee960caae64ddd450a8b0e92eab38ef0b7f9a5e5"
   }
  }
 },
 "nbformat": 4,
 "nbformat_minor": 4
}
