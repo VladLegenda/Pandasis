{
 "cells": [
  {
   "cell_type": "markdown",
   "metadata": {},
   "source": [
    "# Создание и редактирование таблиц"
   ]
  },
  {
   "cell_type": "markdown",
   "metadata": {},
   "source": [
    "# Рынок жилья"
   ]
  },
  {
   "cell_type": "markdown",
   "metadata": {},
   "source": [
    "### Создадим датасет сами\n",
    "\n",
    "### Шаг 1. Импортируем библиотеки"
   ]
  },
  {
   "cell_type": "code",
   "execution_count": 31,
   "metadata": {},
   "outputs": [],
   "source": [
    "import pandas as pd # pandas для обработки и анализа табличных данных\n",
    "import numpy as np  # numpy для удобного хранения данных и мат вычислений"
   ]
  },
  {
   "cell_type": "markdown",
   "metadata": {},
   "source": [
    "### Шаг 2. Сделаем 4 разных Series длины 100:\n",
    "1. Случайные числа от 1 до 4\n",
    "2. Случайные числа от 1 до 3\n",
    "3. Случайные числа от 10 до 300\n",
    "4. Случайные числа от 100_000 до 3_000_000\n",
    "\n",
    "Для создания используй библиотеку numpy"
   ]
  },
  {
   "cell_type": "code",
   "execution_count": 32,
   "metadata": {},
   "outputs": [
    {
     "name": "stdout",
     "output_type": "stream",
     "text": [
      "Series 1:\n",
      "0    3\n",
      "1    1\n",
      "2    3\n",
      "3    3\n",
      "4    1\n",
      "dtype: int64\n",
      "\n",
      "Series 2:\n",
      "0    2\n",
      "1    2\n",
      "2    2\n",
      "3    1\n",
      "4    1\n",
      "dtype: int64\n",
      "\n",
      "Series 3:\n",
      "0    240\n",
      "1    199\n",
      "2    234\n",
      "3    292\n",
      "4    130\n",
      "dtype: int64\n",
      "\n",
      "Series 4:\n",
      "0     718467\n",
      "1    1238848\n",
      "2    2235619\n",
      "3     977844\n",
      "4     580047\n",
      "dtype: int64\n"
     ]
    }
   ],
   "source": [
    "np.random.seed(42)\n",
    "\n",
    "series1 = pd.Series(np.random.randint(1, 4, size=100))\n",
    "series2 = pd.Series(np.random.randint(1, 3, size=100))\n",
    "series3 = pd.Series(np.random.randint(10, 300, size=100))\n",
    "series4 = pd.Series(np.random.randint(100_000, 3_000_000, size=100))\n",
    "\n",
    "\n",
    "print(\"Series 1:\")\n",
    "print(series1.head())\n",
    "print(\"\\nSeries 2:\")\n",
    "print(series2.head())\n",
    "print(\"\\nSeries 3:\")\n",
    "print(series3.head())\n",
    "print(\"\\nSeries 4:\")\n",
    "print(series4.head())\n"
   ]
  },
  {
   "cell_type": "markdown",
   "metadata": {},
   "source": [
    "### Шаг 3. Сделаем датафрейм из этих колонок"
   ]
  },
  {
   "cell_type": "code",
   "execution_count": 33,
   "metadata": {},
   "outputs": [
    {
     "data": {
      "text/html": [
       "<div>\n",
       "<style scoped>\n",
       "    .dataframe tbody tr th:only-of-type {\n",
       "        vertical-align: middle;\n",
       "    }\n",
       "\n",
       "    .dataframe tbody tr th {\n",
       "        vertical-align: top;\n",
       "    }\n",
       "\n",
       "    .dataframe thead th {\n",
       "        text-align: right;\n",
       "    }\n",
       "</style>\n",
       "<table border=\"1\" class=\"dataframe\">\n",
       "  <thead>\n",
       "    <tr style=\"text-align: right;\">\n",
       "      <th></th>\n",
       "      <th>Series 1</th>\n",
       "      <th>Series 2</th>\n",
       "      <th>Series 3</th>\n",
       "      <th>Series 4</th>\n",
       "    </tr>\n",
       "  </thead>\n",
       "  <tbody>\n",
       "    <tr>\n",
       "      <th>0</th>\n",
       "      <td>3</td>\n",
       "      <td>2</td>\n",
       "      <td>240</td>\n",
       "      <td>718467</td>\n",
       "    </tr>\n",
       "    <tr>\n",
       "      <th>1</th>\n",
       "      <td>1</td>\n",
       "      <td>2</td>\n",
       "      <td>199</td>\n",
       "      <td>1238848</td>\n",
       "    </tr>\n",
       "    <tr>\n",
       "      <th>2</th>\n",
       "      <td>3</td>\n",
       "      <td>2</td>\n",
       "      <td>234</td>\n",
       "      <td>2235619</td>\n",
       "    </tr>\n",
       "    <tr>\n",
       "      <th>3</th>\n",
       "      <td>3</td>\n",
       "      <td>1</td>\n",
       "      <td>292</td>\n",
       "      <td>977844</td>\n",
       "    </tr>\n",
       "    <tr>\n",
       "      <th>4</th>\n",
       "      <td>1</td>\n",
       "      <td>1</td>\n",
       "      <td>130</td>\n",
       "      <td>580047</td>\n",
       "    </tr>\n",
       "  </tbody>\n",
       "</table>\n",
       "</div>"
      ],
      "text/plain": [
       "   Series 1  Series 2  Series 3  Series 4\n",
       "0         3         2       240    718467\n",
       "1         1         2       199   1238848\n",
       "2         3         2       234   2235619\n",
       "3         3         1       292    977844\n",
       "4         1         1       130    580047"
      ]
     },
     "execution_count": 33,
     "metadata": {},
     "output_type": "execute_result"
    }
   ],
   "source": [
    "df = pd.DataFrame({\n",
    "    'Series 1': series1,\n",
    "    'Series 2': series2,\n",
    "    'Series 3': series3,\n",
    "    'Series 4': series4\n",
    "})\n",
    "df.head()    \n",
    "    "
   ]
  },
  {
   "cell_type": "markdown",
   "metadata": {},
   "source": [
    "### Шаг 4. Назовите колонки \n",
    "bedrs (комнаты), baths (ванные), square (площадь), price (стоимость)"
   ]
  },
  {
   "cell_type": "code",
   "execution_count": 34,
   "metadata": {},
   "outputs": [
    {
     "data": {
      "text/html": [
       "<div>\n",
       "<style scoped>\n",
       "    .dataframe tbody tr th:only-of-type {\n",
       "        vertical-align: middle;\n",
       "    }\n",
       "\n",
       "    .dataframe tbody tr th {\n",
       "        vertical-align: top;\n",
       "    }\n",
       "\n",
       "    .dataframe thead th {\n",
       "        text-align: right;\n",
       "    }\n",
       "</style>\n",
       "<table border=\"1\" class=\"dataframe\">\n",
       "  <thead>\n",
       "    <tr style=\"text-align: right;\">\n",
       "      <th></th>\n",
       "      <th>berds (комнаты)</th>\n",
       "      <th>baths (ванные)</th>\n",
       "      <th>square (площадь)</th>\n",
       "      <th>price (стоимость)</th>\n",
       "    </tr>\n",
       "  </thead>\n",
       "  <tbody>\n",
       "    <tr>\n",
       "      <th>0</th>\n",
       "      <td>3</td>\n",
       "      <td>2</td>\n",
       "      <td>240</td>\n",
       "      <td>718467</td>\n",
       "    </tr>\n",
       "    <tr>\n",
       "      <th>1</th>\n",
       "      <td>1</td>\n",
       "      <td>2</td>\n",
       "      <td>199</td>\n",
       "      <td>1238848</td>\n",
       "    </tr>\n",
       "    <tr>\n",
       "      <th>2</th>\n",
       "      <td>3</td>\n",
       "      <td>2</td>\n",
       "      <td>234</td>\n",
       "      <td>2235619</td>\n",
       "    </tr>\n",
       "    <tr>\n",
       "      <th>3</th>\n",
       "      <td>3</td>\n",
       "      <td>1</td>\n",
       "      <td>292</td>\n",
       "      <td>977844</td>\n",
       "    </tr>\n",
       "    <tr>\n",
       "      <th>4</th>\n",
       "      <td>1</td>\n",
       "      <td>1</td>\n",
       "      <td>130</td>\n",
       "      <td>580047</td>\n",
       "    </tr>\n",
       "  </tbody>\n",
       "</table>\n",
       "</div>"
      ],
      "text/plain": [
       "   berds (комнаты)  baths (ванные)  square (площадь)  price (стоимость)\n",
       "0                3               2               240             718467\n",
       "1                1               2               199            1238848\n",
       "2                3               2               234            2235619\n",
       "3                3               1               292             977844\n",
       "4                1               1               130             580047"
      ]
     },
     "execution_count": 34,
     "metadata": {},
     "output_type": "execute_result"
    }
   ],
   "source": [
    "df = pd.DataFrame({\n",
    "    'berds (комнаты)': series1,\n",
    "    'baths (ванные)': series2,\n",
    "    'square (площадь)': series3,\n",
    "    'price (стоимость)': series4\n",
    "})\n",
    "df.head() "
   ]
  },
  {
   "cell_type": "markdown",
   "metadata": {},
   "source": [
    "### Шаг 5. Создайте новый признак/колонку - price_sqr_meter (цена за метр) \n",
    "Объедините информацию из square (площадь), price (стоимость)"
   ]
  },
  {
   "cell_type": "code",
   "execution_count": 35,
   "metadata": {},
   "outputs": [],
   "source": [
    "df['price_sqr_meter (цена за ментр)'] = df['price (стоимость)'] / df['square (площадь)']"
   ]
  },
  {
   "cell_type": "markdown",
   "metadata": {},
   "source": [
    "### Шаг 6. Удалите 2 колонки square (площадь), price (стоимость)"
   ]
  },
  {
   "cell_type": "code",
   "execution_count": 36,
   "metadata": {},
   "outputs": [],
   "source": [
    "del df['price (стоимость)']\n",
    "del df['square (площадь)']"
   ]
  },
  {
   "cell_type": "markdown",
   "metadata": {},
   "source": [
    "### Шаг 7. Проверьте датасет на дубликаты, в случае наличия - удалите"
   ]
  },
  {
   "cell_type": "code",
   "execution_count": 37,
   "metadata": {},
   "outputs": [
    {
     "name": "stdout",
     "output_type": "stream",
     "text": [
      "Колличество дубликатов: 0\n"
     ]
    }
   ],
   "source": [
    "duplicates = df.duplicated()\n",
    "num_duplicates = duplicates.sum()\n",
    "\n",
    "print(f'Колличество дубликатов: {num_duplicates}')\n",
    "\n",
    "if num_duplicates > 0:\n",
    "    df.drop_duplicates(inplace=True)\n",
    "    print(\"Дубликаты удалены.\")"
   ]
  },
  {
   "cell_type": "markdown",
   "metadata": {},
   "source": [
    "### Шаг 8. Сделайте один длинный датафрейм bigcolumn из 4 объектов Series шага 2 с одной колонкой"
   ]
  },
  {
   "cell_type": "code",
   "execution_count": 38,
   "metadata": {},
   "outputs": [
    {
     "name": "stdout",
     "output_type": "stream",
     "text": [
      "0            3\n",
      "1            1\n",
      "2            3\n",
      "3            3\n",
      "4            1\n",
      "        ...   \n",
      "395    2902238\n",
      "396    1799005\n",
      "397    1854236\n",
      "398     384821\n",
      "399     155609\n",
      "Length: 400, dtype: int64\n"
     ]
    }
   ],
   "source": [
    "bigcolmn = pd.concat([series1, series2, series3, series4], ignore_index=True)\n",
    "\n",
    "bigcolmn.head()\n",
    "print(bigcolmn)"
   ]
  },
  {
   "cell_type": "markdown",
   "metadata": {},
   "source": [
    "### Шаг 9. Кажется, индекс идет только до 99. Проверим?"
   ]
  },
  {
   "cell_type": "code",
   "execution_count": 39,
   "metadata": {},
   "outputs": [
    {
     "name": "stdout",
     "output_type": "stream",
     "text": [
      "RangeIndex(start=0, stop=100, step=1)\n"
     ]
    }
   ],
   "source": [
    "print(df.index)"
   ]
  },
  {
   "cell_type": "markdown",
   "metadata": {},
   "source": [
    "### Шаг 10. Реиндексируйте датафрейм"
   ]
  },
  {
   "cell_type": "code",
   "execution_count": 40,
   "metadata": {},
   "outputs": [],
   "source": [
    "df.reset_index(drop=True, inplace=True)"
   ]
  },
  {
   "cell_type": "code",
   "execution_count": null,
   "metadata": {},
   "outputs": [],
   "source": []
  },
  {
   "cell_type": "code",
   "execution_count": null,
   "metadata": {},
   "outputs": [],
   "source": []
  }
 ],
 "metadata": {
  "kernelspec": {
   "display_name": "Python 3 (ipykernel)",
   "language": "python",
   "name": "python3"
  },
  "language_info": {
   "codemirror_mode": {
    "name": "ipython",
    "version": 3
   },
   "file_extension": ".py",
   "mimetype": "text/x-python",
   "name": "python",
   "nbconvert_exporter": "python",
   "pygments_lexer": "ipython3",
   "version": "3.12.7"
  },
  "vscode": {
   "interpreter": {
    "hash": "8c4d66b392a277a774887e7eee960caae64ddd450a8b0e92eab38ef0b7f9a5e5"
   }
  }
 },
 "nbformat": 4,
 "nbformat_minor": 4
}
