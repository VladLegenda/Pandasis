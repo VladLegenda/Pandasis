{
 "cells": [
  {
   "cell_type": "markdown",
   "id": "ed9671e6-4177-46c9-ae8d-2af49b16adef",
   "metadata": {},
   "source": [
    "# Объединения и группировки"
   ]
  },
  {
   "cell_type": "markdown",
   "id": "081f2ba1-47fc-416f-8a53-6da256ddf507",
   "metadata": {},
   "source": [
    "При решении задач из данного ноутбука можешь воспользоваться этим сайтом.  \n",
    "Pandas Tutor визуализирует преобразования датафреймов  \n",
    "https://pandastutor.com/"
   ]
  },
  {
   "cell_type": "markdown",
   "id": "80fdcb2a-0a2c-408d-aeb9-4fea974f082b",
   "metadata": {},
   "source": [
    "# Рынок машин"
   ]
  },
  {
   "cell_type": "markdown",
   "id": "95e3cd9b-c9ce-4c3b-a470-2259cc568a76",
   "metadata": {},
   "source": [
    "### Шаг 1. Импортируй библиотеки"
   ]
  },
  {
   "cell_type": "code",
   "execution_count": null,
   "id": "c20c09f7-4afd-45c3-9e49-28a19604409e",
   "metadata": {},
   "outputs": [],
   "source": []
  },
  {
   "cell_type": "markdown",
   "id": "bebd677d-e9f7-43b0-936d-b437df0e1340",
   "metadata": {},
   "source": [
    "### Шаг 2. Задай настройку интерфейса\n",
    "### Ограничь возможность вывода у значений типа float до 2 знаков после запятой"
   ]
  },
  {
   "cell_type": "code",
   "execution_count": null,
   "id": "cd4deaf2-b37d-4cdf-9af2-d700799dcd4f",
   "metadata": {},
   "outputs": [],
   "source": []
  },
  {
   "cell_type": "markdown",
   "id": "b3d632ba-d970-4f23-939d-bb4a85740734",
   "metadata": {},
   "source": [
    "### Шаг 3. Прочитай датафреймы в 2 переменные data1 и data2"
   ]
  },
  {
   "cell_type": "code",
   "execution_count": 98,
   "id": "5b24ad72-a81a-45e9-8451-b5303864ec17",
   "metadata": {},
   "outputs": [],
   "source": [
    "# Файлы cars_part1.xlsx и cars_part2.xlsx\n",
    "# Обрати внимание на столбец Unnamed: 0 при чтении файлов - укажи доп. гиперпараметр чтобы его не было"
   ]
  },
  {
   "cell_type": "code",
   "execution_count": 97,
   "id": "c05c7222-6f84-4d69-9ed0-9702f2ea4f12",
   "metadata": {},
   "outputs": [
    {
     "data": {
      "text/html": [
       "<div>\n",
       "<style scoped>\n",
       "    .dataframe tbody tr th:only-of-type {\n",
       "        vertical-align: middle;\n",
       "    }\n",
       "\n",
       "    .dataframe tbody tr th {\n",
       "        vertical-align: top;\n",
       "    }\n",
       "\n",
       "    .dataframe thead th {\n",
       "        text-align: right;\n",
       "    }\n",
       "</style>\n",
       "<table border=\"1\" class=\"dataframe\">\n",
       "  <thead>\n",
       "    <tr style=\"text-align: right;\">\n",
       "      <th></th>\n",
       "      <th>Unnamed: 0</th>\n",
       "      <th>Car_ID</th>\n",
       "      <th>Brand</th>\n",
       "      <th>Body_Style</th>\n",
       "      <th>Drive_Type</th>\n",
       "      <th>Year</th>\n",
       "      <th>Price</th>\n",
       "      <th>Fuel_Efficiency</th>\n",
       "    </tr>\n",
       "  </thead>\n",
       "  <tbody>\n",
       "    <tr>\n",
       "      <th>0</th>\n",
       "      <td>0</td>\n",
       "      <td>1</td>\n",
       "      <td>Tesla</td>\n",
       "      <td>Sedan</td>\n",
       "      <td>Rear-Wheel Drive</td>\n",
       "      <td>2017</td>\n",
       "      <td>78075</td>\n",
       "      <td>34.36</td>\n",
       "    </tr>\n",
       "    <tr>\n",
       "      <th>1</th>\n",
       "      <td>1</td>\n",
       "      <td>2</td>\n",
       "      <td>Honda</td>\n",
       "      <td>Coupe</td>\n",
       "      <td>Front-Wheel Drive</td>\n",
       "      <td>2013</td>\n",
       "      <td>50942</td>\n",
       "      <td>32.64</td>\n",
       "    </tr>\n",
       "    <tr>\n",
       "      <th>2</th>\n",
       "      <td>2</td>\n",
       "      <td>3</td>\n",
       "      <td>Toyota</td>\n",
       "      <td>Sedan</td>\n",
       "      <td>All-Wheel Drive</td>\n",
       "      <td>2019</td>\n",
       "      <td>39114</td>\n",
       "      <td>33.64</td>\n",
       "    </tr>\n",
       "    <tr>\n",
       "      <th>3</th>\n",
       "      <td>3</td>\n",
       "      <td>4</td>\n",
       "      <td>Nissan</td>\n",
       "      <td>SUV</td>\n",
       "      <td>Rear-Wheel Drive</td>\n",
       "      <td>2021</td>\n",
       "      <td>53220</td>\n",
       "      <td>15.43</td>\n",
       "    </tr>\n",
       "    <tr>\n",
       "      <th>4</th>\n",
       "      <td>4</td>\n",
       "      <td>5</td>\n",
       "      <td>Mercedes</td>\n",
       "      <td>Convertible</td>\n",
       "      <td>Front-Wheel Drive</td>\n",
       "      <td>2021</td>\n",
       "      <td>72133</td>\n",
       "      <td>34.59</td>\n",
       "    </tr>\n",
       "    <tr>\n",
       "      <th>...</th>\n",
       "      <td>...</td>\n",
       "      <td>...</td>\n",
       "      <td>...</td>\n",
       "      <td>...</td>\n",
       "      <td>...</td>\n",
       "      <td>...</td>\n",
       "      <td>...</td>\n",
       "      <td>...</td>\n",
       "    </tr>\n",
       "    <tr>\n",
       "      <th>1628</th>\n",
       "      <td>1628</td>\n",
       "      <td>1629</td>\n",
       "      <td>Mercedes</td>\n",
       "      <td>Convertible</td>\n",
       "      <td>All-Wheel Drive</td>\n",
       "      <td>2016</td>\n",
       "      <td>29507</td>\n",
       "      <td>31.16</td>\n",
       "    </tr>\n",
       "    <tr>\n",
       "      <th>1629</th>\n",
       "      <td>1629</td>\n",
       "      <td>1630</td>\n",
       "      <td>Volkswagen</td>\n",
       "      <td>Coupe</td>\n",
       "      <td>All-Wheel Drive</td>\n",
       "      <td>2012</td>\n",
       "      <td>26795</td>\n",
       "      <td>24.07</td>\n",
       "    </tr>\n",
       "    <tr>\n",
       "      <th>1630</th>\n",
       "      <td>1630</td>\n",
       "      <td>1631</td>\n",
       "      <td>Mercedes</td>\n",
       "      <td>Coupe</td>\n",
       "      <td>Front-Wheel Drive</td>\n",
       "      <td>2014</td>\n",
       "      <td>21024</td>\n",
       "      <td>28.64</td>\n",
       "    </tr>\n",
       "    <tr>\n",
       "      <th>1631</th>\n",
       "      <td>1631</td>\n",
       "      <td>1632</td>\n",
       "      <td>Volkswagen</td>\n",
       "      <td>Sedan</td>\n",
       "      <td>Rear-Wheel Drive</td>\n",
       "      <td>2015</td>\n",
       "      <td>33466</td>\n",
       "      <td>22.96</td>\n",
       "    </tr>\n",
       "    <tr>\n",
       "      <th>1632</th>\n",
       "      <td>1632</td>\n",
       "      <td>1633</td>\n",
       "      <td>Ford</td>\n",
       "      <td>Convertible</td>\n",
       "      <td>Rear-Wheel Drive</td>\n",
       "      <td>2013</td>\n",
       "      <td>72465</td>\n",
       "      <td>32.91</td>\n",
       "    </tr>\n",
       "  </tbody>\n",
       "</table>\n",
       "<p>1633 rows × 8 columns</p>\n",
       "</div>"
      ],
      "text/plain": [
       "      Unnamed: 0  Car_ID       Brand   Body_Style         Drive_Type  Year  \\\n",
       "0              0       1       Tesla        Sedan   Rear-Wheel Drive  2017   \n",
       "1              1       2       Honda        Coupe  Front-Wheel Drive  2013   \n",
       "2              2       3      Toyota        Sedan    All-Wheel Drive  2019   \n",
       "3              3       4      Nissan          SUV   Rear-Wheel Drive  2021   \n",
       "4              4       5    Mercedes  Convertible  Front-Wheel Drive  2021   \n",
       "...          ...     ...         ...          ...                ...   ...   \n",
       "1628        1628    1629    Mercedes  Convertible    All-Wheel Drive  2016   \n",
       "1629        1629    1630  Volkswagen        Coupe    All-Wheel Drive  2012   \n",
       "1630        1630    1631    Mercedes        Coupe  Front-Wheel Drive  2014   \n",
       "1631        1631    1632  Volkswagen        Sedan   Rear-Wheel Drive  2015   \n",
       "1632        1632    1633        Ford  Convertible   Rear-Wheel Drive  2013   \n",
       "\n",
       "      Price  Fuel_Efficiency  \n",
       "0     78075            34.36  \n",
       "1     50942            32.64  \n",
       "2     39114            33.64  \n",
       "3     53220            15.43  \n",
       "4     72133            34.59  \n",
       "...     ...              ...  \n",
       "1628  29507            31.16  \n",
       "1629  26795            24.07  \n",
       "1630  21024            28.64  \n",
       "1631  33466            22.96  \n",
       "1632  72465            32.91  \n",
       "\n",
       "[1633 rows x 8 columns]"
      ]
     },
     "execution_count": 97,
     "metadata": {},
     "output_type": "execute_result"
    }
   ],
   "source": [
    "pd.read_excel('cars_part1.xlsx')"
   ]
  },
  {
   "cell_type": "markdown",
   "id": "7aeca2a6-6bbb-4926-8171-fdf2c92fd12d",
   "metadata": {},
   "source": [
    "### Шаг 4. Объедини 2 датафрейма, сохрани новый в переменной df"
   ]
  },
  {
   "cell_type": "code",
   "execution_count": null,
   "id": "4d844e40-7464-41b1-9816-97248c5e272b",
   "metadata": {},
   "outputs": [],
   "source": []
  },
  {
   "cell_type": "markdown",
   "id": "99f3f59c-1563-4347-9ec5-fdeed8144e3b",
   "metadata": {},
   "source": [
    "### Шаг 5. Сгруппируй данные по марке автомобиля и посмотри на общее кол-во, стоимость, среднюю и медианную стоимость машин в каждой группе"
   ]
  },
  {
   "cell_type": "code",
   "execution_count": null,
   "id": "7bfd3fe5-9440-474b-84bd-1868258baf46",
   "metadata": {},
   "outputs": [],
   "source": []
  },
  {
   "cell_type": "markdown",
   "id": "11d00eef-83e5-4e3e-882c-6326b580bc24",
   "metadata": {},
   "source": [
    "### Шаг 6. \n",
    "### 1) Напиши функцию (def или lambda), которая показывает разброс между минимальным и максимальным значением\n",
    "### 2) Посмотри как изменялся разброс цены от года к году в динамике (используй функцию из шага 1)"
   ]
  },
  {
   "cell_type": "code",
   "execution_count": null,
   "id": "372d21b8-5c4f-4e6f-9bce-748549607b04",
   "metadata": {},
   "outputs": [],
   "source": []
  },
  {
   "cell_type": "markdown",
   "id": "a6c39a90-3d9a-4735-a003-15421e4a7f76",
   "metadata": {},
   "source": [
    "### Шаг 7. Сильно ли отличается разброс цен между автоматической и ручной коробками передач? А средняя лошадиная сила?\n",
    "Ответь сразу на 2 вопроса сделав группировку по Transmission  \n",
    "При агрегации используй:\n",
    "- tuple вместо списка\n",
    "- Price - назови price_range\n",
    "- Horsepower - назови horsepower_mean"
   ]
  },
  {
   "cell_type": "code",
   "execution_count": null,
   "id": "dd8ca98f-9544-4c71-af63-e8a7917b2136",
   "metadata": {},
   "outputs": [],
   "source": []
  },
  {
   "cell_type": "markdown",
   "id": "a809825e-c99f-4277-9922-5bd51120e049",
   "metadata": {},
   "source": [
    "### Шаг 8. Посчитай сколько автомобилей с разным видом кузова есть у каждой марки\n",
    "Используй crosstab"
   ]
  },
  {
   "cell_type": "code",
   "execution_count": null,
   "id": "ba590908-2739-44f2-83a2-e2269dcbe268",
   "metadata": {},
   "outputs": [],
   "source": []
  },
  {
   "cell_type": "markdown",
   "id": "834f27d1-c470-4422-9c37-8ab8934f49be",
   "metadata": {},
   "source": [
    "### Шаг 9. Посмотри как изменялась средняя цена автомобилей каждой марки по годам\n",
    "Используй pivot_table"
   ]
  },
  {
   "cell_type": "code",
   "execution_count": null,
   "id": "7dfb9ebf-f88c-4bc9-9032-b9d64a44054d",
   "metadata": {},
   "outputs": [],
   "source": []
  },
  {
   "cell_type": "markdown",
   "id": "35e319af-2380-4af5-992b-9999a822c79a",
   "metadata": {},
   "source": [
    "### Шаг 10*. Создай новый признак - средняя стоимость марки автомобиля за год\n",
    "groupby + merge"
   ]
  },
  {
   "cell_type": "code",
   "execution_count": null,
   "id": "0b003cc1-4616-420e-9f4c-b52ed40cf0c4",
   "metadata": {},
   "outputs": [],
   "source": []
  },
  {
   "cell_type": "markdown",
   "id": "1ec34f6b-f835-4254-85b0-c6f9797ceae9",
   "metadata": {},
   "source": [
    "### Шаг 11*. Снова создай этот же признак. В этот раз используй связку groupby + transform"
   ]
  },
  {
   "cell_type": "code",
   "execution_count": null,
   "id": "1756e806-b099-4fb5-9774-400649b5125d",
   "metadata": {},
   "outputs": [],
   "source": [
    "# https://dfedorov.spb.ru/pandas/Понимание%20функции%20transform%20в%20Pandas.html"
   ]
  },
  {
   "cell_type": "code",
   "execution_count": null,
   "id": "cc7de7b7-91da-4f32-8f27-eea5f3980c4b",
   "metadata": {},
   "outputs": [],
   "source": []
  }
 ],
 "metadata": {
  "kernelspec": {
   "display_name": "Python 3 (ipykernel)",
   "language": "python",
   "name": "python3"
  },
  "language_info": {
   "codemirror_mode": {
    "name": "ipython",
    "version": 3
   },
   "file_extension": ".py",
   "mimetype": "text/x-python",
   "name": "python",
   "nbconvert_exporter": "python",
   "pygments_lexer": "ipython3",
   "version": "3.10.12"
  }
 },
 "nbformat": 4,
 "nbformat_minor": 5
}
