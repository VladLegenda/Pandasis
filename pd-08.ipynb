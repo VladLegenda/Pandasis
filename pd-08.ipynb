{
 "cells": [
  {
   "cell_type": "markdown",
   "metadata": {},
   "source": [
    "# Ирисы"
   ]
  },
  {
   "cell_type": "markdown",
   "metadata": {
    "jp-MarkdownHeadingCollapsed": true
   },
   "source": [
    "### Один из самых часто используемых датасетов - познакомьтесь с ним поближе"
   ]
  },
  {
   "cell_type": "markdown",
   "metadata": {},
   "source": [
    "### Шаг 1. Импортируем библиотеки."
   ]
  },
  {
   "cell_type": "code",
   "execution_count": 31,
   "metadata": {},
   "outputs": [],
   "source": [
    "import pandas as pd \n",
    "import numpy as np "
   ]
  },
  {
   "cell_type": "markdown",
   "metadata": {},
   "source": [
    "### Шаг 2. Импортируем датасет\n",
    "Забираем датасет из папки datasets/iris.json"
   ]
  },
  {
   "cell_type": "code",
   "execution_count": 32,
   "metadata": {},
   "outputs": [
    {
     "name": "stdout",
     "output_type": "stream",
     "text": [
      "   5.1  3.5  1.4  0.2  Iris-setosa\n",
      "0  4.9  3.0  1.4  0.2  Iris-setosa\n",
      "1  4.7  3.2  1.3  0.2  Iris-setosa\n",
      "2  4.6  3.1  1.5  0.2  Iris-setosa\n",
      "3  5.0  3.6  1.4  0.2  Iris-setosa\n",
      "4  5.4  3.9  1.7  0.4  Iris-setosa\n"
     ]
    },
    {
     "name": "stderr",
     "output_type": "stream",
     "text": [
      "/tmp/ipykernel_210228/4062654520.py:1: FutureWarning: The behavior of 'to_datetime' with 'unit' when parsing strings is deprecated. In a future version, strings will be parsed as datetime strings, matching the behavior without a 'unit'. To retain the old behavior, explicitly cast ints or floats to numeric type before calling to_datetime.\n",
      "  iris = pd.read_json('/home/vlad/ds/pandas/datasets/iris.json')\n",
      "/tmp/ipykernel_210228/4062654520.py:1: FutureWarning: The behavior of 'to_datetime' with 'unit' when parsing strings is deprecated. In a future version, strings will be parsed as datetime strings, matching the behavior without a 'unit'. To retain the old behavior, explicitly cast ints or floats to numeric type before calling to_datetime.\n",
      "  iris = pd.read_json('/home/vlad/ds/pandas/datasets/iris.json')\n",
      "/tmp/ipykernel_210228/4062654520.py:1: FutureWarning: The behavior of 'to_datetime' with 'unit' when parsing strings is deprecated. In a future version, strings will be parsed as datetime strings, matching the behavior without a 'unit'. To retain the old behavior, explicitly cast ints or floats to numeric type before calling to_datetime.\n",
      "  iris = pd.read_json('/home/vlad/ds/pandas/datasets/iris.json')\n"
     ]
    }
   ],
   "source": [
    "iris = pd.read_json('/home/vlad/ds/pandas/datasets/iris.json')\n",
    "\n",
    "print(iris.head())\n"
   ]
  },
  {
   "cell_type": "markdown",
   "metadata": {},
   "source": [
    "### Шаг 3. Записываем его в переменную iris.\n",
    "Обрати внимание на название колонок"
   ]
  },
  {
   "cell_type": "code",
   "execution_count": 33,
   "metadata": {},
   "outputs": [
    {
     "name": "stdout",
     "output_type": "stream",
     "text": [
      "['5.1', '3.5', '1.4', '0.2', 'Iris-setosa']\n"
     ]
    }
   ],
   "source": [
    "print(iris.columns.tolist())"
   ]
  },
  {
   "cell_type": "markdown",
   "metadata": {},
   "source": [
    "### Шаг 4. Создайте дополнительные колонки."
   ]
  },
  {
   "cell_type": "code",
   "execution_count": 34,
   "metadata": {},
   "outputs": [
    {
     "name": "stdout",
     "output_type": "stream",
     "text": [
      "   sepal_length  sepal_width  petal_length  petal_width        class\n",
      "0           4.9          3.0           1.4          0.2  Iris-setosa\n",
      "1           4.7          3.2           1.3          0.2  Iris-setosa\n",
      "2           4.6          3.1           1.5          0.2  Iris-setosa\n",
      "3           5.0          3.6           1.4          0.2  Iris-setosa\n",
      "4           5.4          3.9           1.7          0.4  Iris-setosa\n"
     ]
    }
   ],
   "source": [
    "# 1. sepal_length (in cm)\n",
    "# 2. sepal_width (in cm)\n",
    "# 3. petal_length (in cm)\n",
    "# 4. petal_width (in cm)\n",
    "# 5. class\n",
    "iris.columns = ['sepal_length', 'sepal_width', 'petal_length', 'petal_width', 'class']\n",
    "\n",
    "\n",
    "print(iris.head())"
   ]
  },
  {
   "cell_type": "markdown",
   "metadata": {},
   "source": [
    "### Шаг 5. Есть ли пропущенные значения?"
   ]
  },
  {
   "cell_type": "code",
   "execution_count": 35,
   "metadata": {},
   "outputs": [
    {
     "name": "stdout",
     "output_type": "stream",
     "text": [
      "sepal_length    0\n",
      "sepal_width     0\n",
      "petal_length    0\n",
      "petal_width     0\n",
      "class           0\n",
      "dtype: int64\n"
     ]
    }
   ],
   "source": [
    "missing_values = iris.isnull().sum()\n",
    "print(missing_values)"
   ]
  },
  {
   "cell_type": "markdown",
   "metadata": {},
   "source": [
    "### Шаг 6. Зададим значение NaN для строк с 10 по 29 колонки 'petal_length'"
   ]
  },
  {
   "cell_type": "code",
   "execution_count": 36,
   "metadata": {},
   "outputs": [
    {
     "name": "stdout",
     "output_type": "stream",
     "text": [
      "    sepal_length  sepal_width  petal_length  petal_width        class\n",
      "5            4.6          3.4           1.4          0.3  Iris-setosa\n",
      "6            5.0          3.4           1.5          0.2  Iris-setosa\n",
      "7            4.4          2.9           1.4          0.2  Iris-setosa\n",
      "8            4.9          3.1           1.5          0.1  Iris-setosa\n",
      "9            5.4          3.7           1.5          0.2  Iris-setosa\n",
      "10           4.8          3.4           NaN          0.2  Iris-setosa\n",
      "11           4.8          3.0           NaN          0.1  Iris-setosa\n",
      "12           4.3          3.0           NaN          0.1  Iris-setosa\n",
      "13           5.8          4.0           NaN          0.2  Iris-setosa\n",
      "14           5.7          4.4           NaN          0.4  Iris-setosa\n",
      "15           5.4          3.9           NaN          0.4  Iris-setosa\n",
      "16           5.1          3.5           NaN          0.3  Iris-setosa\n",
      "17           5.7          3.8           NaN          0.3  Iris-setosa\n",
      "18           5.1          3.8           NaN          0.3  Iris-setosa\n",
      "19           5.4          3.4           NaN          0.2  Iris-setosa\n",
      "20           5.1          3.7           NaN          0.4  Iris-setosa\n",
      "21           4.6          3.6           NaN          0.2  Iris-setosa\n",
      "22           5.1          3.3           NaN          0.5  Iris-setosa\n",
      "23           4.8          3.4           NaN          0.2  Iris-setosa\n",
      "24           5.0          3.0           NaN          0.2  Iris-setosa\n",
      "25           5.0          3.4           NaN          0.4  Iris-setosa\n",
      "26           5.2          3.5           NaN          0.2  Iris-setosa\n",
      "27           5.2          3.4           NaN          0.2  Iris-setosa\n",
      "28           4.7          3.2           NaN          0.2  Iris-setosa\n",
      "29           4.8          3.1           NaN          0.2  Iris-setosa\n",
      "30           5.4          3.4           1.5          0.4  Iris-setosa\n",
      "31           5.2          4.1           1.5          0.1  Iris-setosa\n",
      "32           5.5          4.2           1.4          0.2  Iris-setosa\n",
      "33           4.9          3.1           1.5          0.1  Iris-setosa\n",
      "34           5.0          3.2           1.2          0.2  Iris-setosa\n",
      "35           5.5          3.5           1.3          0.2  Iris-setosa\n"
     ]
    }
   ],
   "source": [
    "iris.loc[10:29, 'petal_length'] = None\n",
    "print(iris.loc[5:35])"
   ]
  },
  {
   "cell_type": "markdown",
   "metadata": {},
   "source": [
    "### Шаг 7. Отлично, теперь заменим NaN на 1.0"
   ]
  },
  {
   "cell_type": "code",
   "execution_count": 37,
   "metadata": {},
   "outputs": [
    {
     "name": "stdout",
     "output_type": "stream",
     "text": [
      "    sepal_length  sepal_width  petal_length  petal_width        class\n",
      "5            4.6          3.4           1.4          0.3  Iris-setosa\n",
      "6            5.0          3.4           1.5          0.2  Iris-setosa\n",
      "7            4.4          2.9           1.4          0.2  Iris-setosa\n",
      "8            4.9          3.1           1.5          0.1  Iris-setosa\n",
      "9            5.4          3.7           1.5          0.2  Iris-setosa\n",
      "10           4.8          3.4           1.0          0.2  Iris-setosa\n",
      "11           4.8          3.0           1.0          0.1  Iris-setosa\n",
      "12           4.3          3.0           1.0          0.1  Iris-setosa\n",
      "13           5.8          4.0           1.0          0.2  Iris-setosa\n",
      "14           5.7          4.4           1.0          0.4  Iris-setosa\n",
      "15           5.4          3.9           1.0          0.4  Iris-setosa\n",
      "16           5.1          3.5           1.0          0.3  Iris-setosa\n",
      "17           5.7          3.8           1.0          0.3  Iris-setosa\n",
      "18           5.1          3.8           1.0          0.3  Iris-setosa\n",
      "19           5.4          3.4           1.0          0.2  Iris-setosa\n",
      "20           5.1          3.7           1.0          0.4  Iris-setosa\n",
      "21           4.6          3.6           1.0          0.2  Iris-setosa\n",
      "22           5.1          3.3           1.0          0.5  Iris-setosa\n",
      "23           4.8          3.4           1.0          0.2  Iris-setosa\n",
      "24           5.0          3.0           1.0          0.2  Iris-setosa\n",
      "25           5.0          3.4           1.0          0.4  Iris-setosa\n",
      "26           5.2          3.5           1.0          0.2  Iris-setosa\n",
      "27           5.2          3.4           1.0          0.2  Iris-setosa\n",
      "28           4.7          3.2           1.0          0.2  Iris-setosa\n",
      "29           4.8          3.1           1.0          0.2  Iris-setosa\n",
      "30           5.4          3.4           1.5          0.4  Iris-setosa\n",
      "31           5.2          4.1           1.5          0.1  Iris-setosa\n",
      "32           5.5          4.2           1.4          0.2  Iris-setosa\n",
      "33           4.9          3.1           1.5          0.1  Iris-setosa\n",
      "34           5.0          3.2           1.2          0.2  Iris-setosa\n",
      "35           5.5          3.5           1.3          0.2  Iris-setosa\n"
     ]
    }
   ],
   "source": [
    "iris.fillna(1.0, inplace=True)\n",
    "print(iris.loc[5:35])"
   ]
  },
  {
   "cell_type": "markdown",
   "metadata": {},
   "source": [
    "### Шаг 8. Удалим колонку class"
   ]
  },
  {
   "cell_type": "code",
   "execution_count": 38,
   "metadata": {},
   "outputs": [
    {
     "name": "stdout",
     "output_type": "stream",
     "text": [
      "   sepal_length  sepal_width  petal_length  petal_width\n",
      "0           4.9          3.0           1.4          0.2\n",
      "1           4.7          3.2           1.3          0.2\n",
      "2           4.6          3.1           1.5          0.2\n",
      "3           5.0          3.6           1.4          0.2\n",
      "4           5.4          3.9           1.7          0.4\n"
     ]
    }
   ],
   "source": [
    "iris = iris.drop(columns=['class'])\n",
    "print(iris.head())"
   ]
  },
  {
   "cell_type": "markdown",
   "metadata": {},
   "source": [
    "### Шаг 9. Запишем NaN в первые 3 строки (во все колонки)"
   ]
  },
  {
   "cell_type": "code",
   "execution_count": 39,
   "metadata": {},
   "outputs": [
    {
     "name": "stdout",
     "output_type": "stream",
     "text": [
      "   sepal_length  sepal_width  petal_length  petal_width\n",
      "0           NaN          NaN           NaN          NaN\n",
      "1           NaN          NaN           NaN          NaN\n",
      "2           NaN          NaN           NaN          NaN\n",
      "3           5.0          3.6           1.4          0.2\n",
      "4           5.4          3.9           1.7          0.4\n"
     ]
    }
   ],
   "source": [
    "iris.iloc[:3] = None\n",
    "print(iris.head())"
   ]
  },
  {
   "cell_type": "markdown",
   "metadata": {},
   "source": [
    "### Шаг 10. Удалим строки, в которых встречается NaN"
   ]
  },
  {
   "cell_type": "code",
   "execution_count": 40,
   "metadata": {},
   "outputs": [
    {
     "name": "stdout",
     "output_type": "stream",
     "text": [
      "   sepal_length  sepal_width  petal_length  petal_width\n",
      "3           5.0          3.6           1.4          0.2\n",
      "4           5.4          3.9           1.7          0.4\n",
      "5           4.6          3.4           1.4          0.3\n",
      "6           5.0          3.4           1.5          0.2\n",
      "7           4.4          2.9           1.4          0.2\n"
     ]
    }
   ],
   "source": [
    "iris = iris.dropna()\n",
    "print(iris.head())"
   ]
  },
  {
   "cell_type": "markdown",
   "metadata": {},
   "source": [
    "### Шаг 11. Сбросим индекс - начнем его опять с 0."
   ]
  },
  {
   "cell_type": "code",
   "execution_count": 41,
   "metadata": {},
   "outputs": [
    {
     "name": "stdout",
     "output_type": "stream",
     "text": [
      "   sepal_length  sepal_width  petal_length  petal_width\n",
      "0           5.0          3.6           1.4          0.2\n",
      "1           5.4          3.9           1.7          0.4\n",
      "2           4.6          3.4           1.4          0.3\n",
      "3           5.0          3.4           1.5          0.2\n",
      "4           4.4          2.9           1.4          0.2\n"
     ]
    }
   ],
   "source": [
    "iris.reset_index(drop=True, inplace=True)\n",
    "print(iris.head())"
   ]
  },
  {
   "cell_type": "markdown",
   "metadata": {},
   "source": [
    "### Шаг 12. Бонус: Напишите свой вопрос и ответьте на него."
   ]
  },
  {
   "cell_type": "code",
   "execution_count": 43,
   "metadata": {},
   "outputs": [
    {
     "ename": "SyntaxError",
     "evalue": "invalid syntax (2913588484.py, line 3)",
     "output_type": "error",
     "traceback": [
      "\u001b[0;36m  Cell \u001b[0;32mIn[43], line 3\u001b[0;36m\u001b[0m\n\u001b[0;31m    Если этого не делать будет путанница при обращении к строкам,особенно если они не последовательно идут\u001b[0m\n\u001b[0m         ^\u001b[0m\n\u001b[0;31mSyntaxError\u001b[0m\u001b[0;31m:\u001b[0m invalid syntax\n"
     ]
    }
   ],
   "source": [
    "Почему нужно сбрасывать индексы после удаления строк?\n",
    "\n",
    "Если этого не делать буде,о"
   ]
  },
  {
   "cell_type": "code",
   "execution_count": null,
   "metadata": {},
   "outputs": [],
   "source": []
  }
 ],
 "metadata": {
  "kernelspec": {
   "display_name": "Python 3 (ipykernel)",
   "language": "python",
   "name": "python3"
  },
  "language_info": {
   "codemirror_mode": {
    "name": "ipython",
    "version": 3
   },
   "file_extension": ".py",
   "mimetype": "text/x-python",
   "name": "python",
   "nbconvert_exporter": "python",
   "pygments_lexer": "ipython3",
   "version": "3.12.7"
  },
  "vscode": {
   "interpreter": {
    "hash": "8c4d66b392a277a774887e7eee960caae64ddd450a8b0e92eab38ef0b7f9a5e5"
   }
  }
 },
 "nbformat": 4,
 "nbformat_minor": 4
}
