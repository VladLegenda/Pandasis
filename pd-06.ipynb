{
 "cells": [
  {
   "cell_type": "markdown",
   "metadata": {},
   "source": [
    "# Имена детей в США"
   ]
  },
  {
   "cell_type": "markdown",
   "metadata": {},
   "source": [
    "### Шаг 1. Импортируем библиотеки."
   ]
  },
  {
   "cell_type": "code",
   "execution_count": 4,
   "metadata": {},
   "outputs": [],
   "source": [
    "import pandas as pd \n",
    "import numpy as np  \n",
    "import zipfile\n"
   ]
  },
  {
   "cell_type": "markdown",
   "metadata": {},
   "source": [
    "### Шаг 2 Записываем его в переменную baby_names\n",
    "Забираем датасет из папки datasets/US_Baby_Names_right.zip"
   ]
  },
  {
   "cell_type": "code",
   "execution_count": 6,
   "metadata": {},
   "outputs": [
    {
     "name": "stdout",
     "output_type": "stream",
     "text": [
      "   Unnamed: 0     Id     Name  Year Gender State  Count\n",
      "0       11349  11350     Emma  2004      F    AK     62\n",
      "1       11350  11351  Madison  2004      F    AK     48\n",
      "2       11351  11352   Hannah  2004      F    AK     46\n",
      "3       11352  11353    Grace  2004      F    AK     44\n",
      "4       11353  11354    Emily  2004      F    AK     41\n"
     ]
    }
   ],
   "source": [
    "zip_file_path = '/home/vlad/ds/pandas/datasets/US_Baby_Names_right.zip'\n",
    "\n",
    "\n",
    "with zipfile.ZipFile(zip_file_path, 'r') as zip_ref:\n",
    "\n",
    "    file_list = zip_ref.namelist()\n",
    "\n",
    "    csv_file_name = file_list[0]  \n",
    "\n",
    "\n",
    "    with zip_ref.open(csv_file_name) as my_file:\n",
    "        baby_names = pd.read_csv(my_file)\n",
    "\n",
    "\n",
    "\n",
    "print(baby_names.head())"
   ]
  },
  {
   "cell_type": "markdown",
   "metadata": {},
   "source": [
    "### Шаг 3. Смотрим первые 10 записей"
   ]
  },
  {
   "cell_type": "code",
   "execution_count": 7,
   "metadata": {},
   "outputs": [
    {
     "name": "stdout",
     "output_type": "stream",
     "text": [
      "   Unnamed: 0     Id      Name  Year Gender State  Count\n",
      "0       11349  11350      Emma  2004      F    AK     62\n",
      "1       11350  11351   Madison  2004      F    AK     48\n",
      "2       11351  11352    Hannah  2004      F    AK     46\n",
      "3       11352  11353     Grace  2004      F    AK     44\n",
      "4       11353  11354     Emily  2004      F    AK     41\n",
      "5       11354  11355   Abigail  2004      F    AK     37\n",
      "6       11355  11356    Olivia  2004      F    AK     33\n",
      "7       11356  11357  Isabella  2004      F    AK     30\n",
      "8       11357  11358    Alyssa  2004      F    AK     29\n",
      "9       11358  11359    Sophia  2004      F    AK     28\n"
     ]
    }
   ],
   "source": [
    "print(baby_names.head(10))"
   ]
  },
  {
   "cell_type": "markdown",
   "metadata": {},
   "source": [
    "### Шаг 4. Удаляем колонки 'Unnamed: 0' и 'Id'"
   ]
  },
  {
   "cell_type": "code",
   "execution_count": 8,
   "metadata": {},
   "outputs": [],
   "source": [
    "aby_names = baby_names.drop(columns=['Unnamed: 0', 'Id'], errors='ignore')"
   ]
  },
  {
   "cell_type": "markdown",
   "metadata": {},
   "source": [
    "### Шаг 5. В датасете больше мужских или женских имен?"
   ]
  },
  {
   "cell_type": "code",
   "execution_count": 10,
   "metadata": {},
   "outputs": [
    {
     "name": "stdout",
     "output_type": "stream",
     "text": [
      "В датасете больше F имен.\n"
     ]
    }
   ],
   "source": [
    "gender_counts = baby_names['Gender'].value_counts()\n",
    "more_male_female = gender_counts.idxmax()\n",
    "print(f\"В датасете больше {more_male_female} имен.\")"
   ]
  },
  {
   "cell_type": "markdown",
   "metadata": {},
   "source": [
    "### Шаг 6. Посчитайте, сколько раз встречалось каждое имя и запишите получившийся датафрейм в переменную names"
   ]
  },
  {
   "cell_type": "code",
   "execution_count": 14,
   "metadata": {},
   "outputs": [
    {
     "name": "stdout",
     "output_type": "stream",
     "text": [
      "     Name  Count\n",
      "0   Riley   1112\n",
      "1   Avery   1080\n",
      "2  Jordan   1073\n",
      "3  Peyton   1064\n",
      "4  Hayden   1049\n"
     ]
    }
   ],
   "source": [
    "names = baby_names['Name'].value_counts().reset_index()\n",
    "names.columns = ['Name', 'Count']\n",
    "\n",
    "\n",
    "print(names.head())"
   ]
  },
  {
   "cell_type": "markdown",
   "metadata": {},
   "source": [
    "### Шаг 7. Сколько разных имен в датасете?"
   ]
  },
  {
   "cell_type": "code",
   "execution_count": 15,
   "metadata": {},
   "outputs": [
    {
     "name": "stdout",
     "output_type": "stream",
     "text": [
      "\n",
      " имен в датасете: 17632\n"
     ]
    }
   ],
   "source": [
    "unique_names_count = names['Name'].nunique()\n",
    "print(f\"\\n имен в датасете: {unique_names_count}\")"
   ]
  },
  {
   "cell_type": "markdown",
   "metadata": {},
   "source": [
    "### Шаг 8. Какое самое частое имя?"
   ]
  },
  {
   "cell_type": "code",
   "execution_count": 17,
   "metadata": {},
   "outputs": [
    {
     "name": "stdout",
     "output_type": "stream",
     "text": [
      "Самое частое имя: Riley (встречается 1112 раз)\n"
     ]
    }
   ],
   "source": [
    "most_common_name = names.loc[names['Count'].idxmax()]\n",
    "print(f\"Самое частое имя: {most_common_name['Name']} (встречается {most_common_name['Count']} раз)\")"
   ]
  },
  {
   "cell_type": "markdown",
   "metadata": {},
   "source": [
    "### Шаг 9. Сколько разных имен встречаются реже всего?"
   ]
  },
  {
   "cell_type": "code",
   "execution_count": 18,
   "metadata": {},
   "outputs": [
    {
     "name": "stdout",
     "output_type": "stream",
     "text": [
      "Количество имен, встречающихся реже всего: 3682\n"
     ]
    }
   ],
   "source": [
    "min_count = names['Count'].min()\n",
    "rare_names_count = names[names['Count'] == min_count].shape[0]\n",
    "print(f\"Количество имен, встречающихся реже всего: {rare_names_count}\")"
   ]
  },
  {
   "cell_type": "markdown",
   "metadata": {},
   "source": [
    "### Шаг 10. Какое медианное значение количества детей с одинаковым именем?"
   ]
  },
  {
   "cell_type": "code",
   "execution_count": 19,
   "metadata": {},
   "outputs": [
    {
     "name": "stdout",
     "output_type": "stream",
     "text": [
      "8.0\n"
     ]
    }
   ],
   "source": [
    "median_count = names['Count'].median()\n",
    "print(median_count)"
   ]
  },
  {
   "cell_type": "markdown",
   "metadata": {},
   "source": [
    "### Шаг 11. Какое среднеквадратичное отклонение количества детей с одинаковым именем?"
   ]
  },
  {
   "cell_type": "code",
   "execution_count": 20,
   "metadata": {},
   "outputs": [
    {
     "name": "stdout",
     "output_type": "stream",
     "text": [
      "Среднеквадратичное отклонение количества детей с одинаковым именем: 122.0299635081389\n"
     ]
    }
   ],
   "source": [
    "std_count = names['Count'].std()\n",
    "print(f\"Среднеквадратичное отклонение количества детей с одинаковым именем: {std_count}\")"
   ]
  },
  {
   "cell_type": "markdown",
   "metadata": {},
   "source": [
    "### Шаг 12. Сделайте саммари с mean, min, max, std и квартилями."
   ]
  },
  {
   "cell_type": "code",
   "execution_count": 22,
   "metadata": {},
   "outputs": [
    {
     "name": "stdout",
     "output_type": "stream",
     "text": [
      "Сводная статистика (mean, min, max, std и квартили):\n",
      "count    17632.000000\n",
      "mean        57.644907\n",
      "std        122.029964\n",
      "min          1.000000\n",
      "25%          2.000000\n",
      "50%          8.000000\n",
      "75%         39.000000\n",
      "max       1112.000000\n",
      "Name: Count, dtype: float64\n"
     ]
    }
   ],
   "source": [
    "summary = names['Count'].describe(percentiles=[0.25, 0.5, 0.75])\n",
    "print(\"Сводная статистика (mean, min, max, std и квартили):\")\n",
    "print(summary)"
   ]
  },
  {
   "cell_type": "code",
   "execution_count": null,
   "metadata": {},
   "outputs": [],
   "source": []
  }
 ],
 "metadata": {
  "anaconda-cloud": {},
  "kernelspec": {
   "display_name": "Python 3 (ipykernel)",
   "language": "python",
   "name": "python3"
  },
  "language_info": {
   "codemirror_mode": {
    "name": "ipython",
    "version": 3
   },
   "file_extension": ".py",
   "mimetype": "text/x-python",
   "name": "python",
   "nbconvert_exporter": "python",
   "pygments_lexer": "ipython3",
   "version": "3.12.7"
  },
  "vscode": {
   "interpreter": {
    "hash": "8c4d66b392a277a774887e7eee960caae64ddd450a8b0e92eab38ef0b7f9a5e5"
   }
  }
 },
 "nbformat": 4,
 "nbformat_minor": 4
}
